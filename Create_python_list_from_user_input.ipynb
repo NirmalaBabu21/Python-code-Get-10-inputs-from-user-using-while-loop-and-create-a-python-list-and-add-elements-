{
  "nbformat": 4,
  "nbformat_minor": 0,
  "metadata": {
    "colab": {
      "name": "Create python list from user input.ipynb",
      "provenance": []
    },
    "kernelspec": {
      "name": "python3",
      "display_name": "Python 3"
    },
    "language_info": {
      "name": "python"
    }
  },
  "cells": [
    {
      "cell_type": "markdown",
      "source": [
        "Get 10 inputs from user , using while loop, and create a python list, and add elements to it"
      ],
      "metadata": {
        "id": "lboa5be6LJNv"
      }
    },
    {
      "cell_type": "code",
      "source": [
        "a = []\n",
        "i=0\n",
        "while(i<10):\n",
        "  n = int(input(\"Enter a number\"))\n",
        "  a.append(n)\n",
        "  i = i+1\n",
        "print(a)"
      ],
      "metadata": {
        "colab": {
          "base_uri": "https://localhost:8080/"
        },
        "id": "mAYNPOWTLLja",
        "outputId": "b29f0398-a02c-48da-f631-ed6c66f43552"
      },
      "execution_count": 3,
      "outputs": [
        {
          "output_type": "stream",
          "name": "stdout",
          "text": [
            "Enter a number45\n",
            "Enter a number56\n",
            "Enter a number96\n",
            "Enter a number32\n",
            "Enter a number2\n",
            "Enter a number3\n",
            "Enter a number9\n",
            "Enter a number4\n",
            "Enter a number7\n",
            "Enter a number5\n",
            "[45, 56, 96, 32, 2, 3, 9, 4, 7, 5]\n"
          ]
        }
      ]
    }
  ]
}